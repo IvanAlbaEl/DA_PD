{
 "cells": [
  {
   "cell_type": "code",
   "execution_count": 5,
   "metadata": {},
   "outputs": [],
   "source": [
    "import numpy as np \n",
    "import pandas as pd \n",
    "import os\n",
    "import torch\n",
    "import librosa\n",
    "from torch.utils.data import Dataset, DataLoader\n",
    "\n",
    "# memory\n",
    "from my_memory_profiler import profile"
   ]
  },
  {
   "cell_type": "code",
   "execution_count": 6,
   "metadata": {},
   "outputs": [],
   "source": [
    "@profile\n",
    "def label_generator(DATA_PATH_NeuroV):\n",
    "    data_list = []\n",
    "    \n",
    "    for dirname, _, filenames in os.walk(DATA_PATH_NeuroV):\n",
    "        for filename in filenames:\n",
    "            if filename.endswith('.wav'):  # Check if the file is a WAV file\n",
    "                identifiers = filename.split('.')[0].split('_')\n",
    "                Speaker_ID = int(identifiers[-1])\n",
    "                Label = 1 if identifiers[0] == 'PD' else 0\n",
    "                data_list.append({\n",
    "                    \"Speaker_ID\": Speaker_ID,\n",
    "                    \"Label\": Label,\n",
    "                    \"FileName\": filename\n",
    "                })\n",
    "    \n",
    "    data_NeuroV = pd.DataFrame(data_list)\n",
    "        \n",
    "    return data_NeuroV"
   ]
  },
  {
   "cell_type": "code",
   "execution_count": 7,
   "metadata": {},
   "outputs": [],
   "source": [
    "@profile\n",
    "def num_seg(data_dir, audio_labels, SAMPLE_RATE, output_csv=None, filenames=False):\n",
    "    time_leng=0.4\n",
    "    sample_leng=int(time_leng*SAMPLE_RATE)\n",
    "    overloap=2\n",
    "    segments_info=[]\n",
    "    # audio_labels=pd.read_csv('labels.csv')\n",
    "\n",
    "\n",
    "    #Processs data to train\n",
    "    for data_ind, audio_label in enumerate(audio_labels.values):\n",
    "        file_name=audio_label[-1]\n",
    "        data_path=os.path.join(data_dir, file_name)\n",
    "        audio, sample_rate = librosa.load(data_path, sr=SAMPLE_RATE)\n",
    "        audio_len=len(audio)\n",
    "        #print(audio_len)\n",
    "        #plt.plot(audio)\n",
    "        audio=audio/np.max(abs(audio))\n",
    "        indx=[i for i,x in enumerate(np.sqrt(abs(audio))) if x>.30]\n",
    "        segments=0\n",
    "        if (indx[0]+sample_leng)<audio_len:\n",
    "            for i in range(int((-indx[0]+indx[len(indx)-1])/(sample_leng/overloap))):\n",
    "                ind_start = i * int(sample_leng/overloap)+indx[0]\n",
    "                ind_end = ind_start + sample_leng\n",
    "                if ind_end <= indx[-1]:\n",
    "                    segments+=1\n",
    "            if filenames:\n",
    "                segments_info.append({\n",
    "                    'Filename': file_name,\n",
    "                    'Segments': segments})\n",
    "            else: \n",
    "                segments_info.append({'Segments':segments})\n",
    "            \n",
    "            print(\" Processed {}/{} files\".format(data_ind,2902),end='\\n')\n",
    "        else:\n",
    "            print(\" Processed {}/{} files\".format(data_ind,2902),end='\\n')\n",
    "            if filenames:\n",
    "                segments_info.append({\n",
    "                    'Filename': file_name,\n",
    "                    'Segments': segments})\n",
    "            else: \n",
    "                segments_info.append({'Segments':segments})\n",
    "    \n",
    "\n",
    "    df_segments = pd.DataFrame(segments_info)\n",
    "    if(output_csv is None):\n",
    "        return df_segments\n",
    "    else:\n",
    "        df_segments.to_csv(output_csv, index=False)\n",
    "        \n",
    "    "
   ]
  },
  {
   "cell_type": "code",
   "execution_count": 8,
   "metadata": {},
   "outputs": [],
   "source": [
    "SAMPLE_RATE_=44100\n",
    "DATA_PATH_NeuroV = 'neurovoz/zenodo_upload/audios/'"
   ]
  },
  {
   "cell_type": "code",
   "execution_count": 11,
   "metadata": {},
   "outputs": [
    {
     "name": "stdout",
     "output_type": "stream",
     "text": [
      "label_generator: consumed memory: 0.000000 GB\n"
     ]
    },
    {
     "data": {
      "text/html": [
       "<div>\n",
       "<style scoped>\n",
       "    .dataframe tbody tr th:only-of-type {\n",
       "        vertical-align: middle;\n",
       "    }\n",
       "\n",
       "    .dataframe tbody tr th {\n",
       "        vertical-align: top;\n",
       "    }\n",
       "\n",
       "    .dataframe thead th {\n",
       "        text-align: right;\n",
       "    }\n",
       "</style>\n",
       "<table border=\"1\" class=\"dataframe\">\n",
       "  <thead>\n",
       "    <tr style=\"text-align: right;\">\n",
       "      <th></th>\n",
       "      <th>Speaker_ID</th>\n",
       "      <th>Label</th>\n",
       "      <th>FileName</th>\n",
       "    </tr>\n",
       "  </thead>\n",
       "  <tbody>\n",
       "    <tr>\n",
       "      <th>0</th>\n",
       "      <td>16</td>\n",
       "      <td>1</td>\n",
       "      <td>PD_PERRO_0016.wav</td>\n",
       "    </tr>\n",
       "    <tr>\n",
       "      <th>1</th>\n",
       "      <td>143</td>\n",
       "      <td>0</td>\n",
       "      <td>HC_O2_0143.wav</td>\n",
       "    </tr>\n",
       "    <tr>\n",
       "      <th>2</th>\n",
       "      <td>78</td>\n",
       "      <td>1</td>\n",
       "      <td>PD_CARMEN_0078.wav</td>\n",
       "    </tr>\n",
       "    <tr>\n",
       "      <th>3</th>\n",
       "      <td>81</td>\n",
       "      <td>0</td>\n",
       "      <td>HC_PERRO_0081.wav</td>\n",
       "    </tr>\n",
       "    <tr>\n",
       "      <th>4</th>\n",
       "      <td>52</td>\n",
       "      <td>0</td>\n",
       "      <td>HC_PATATA_BLANDA_0052.wav</td>\n",
       "    </tr>\n",
       "  </tbody>\n",
       "</table>\n",
       "</div>"
      ],
      "text/plain": [
       "   Speaker_ID  Label                   FileName\n",
       "0          16      1          PD_PERRO_0016.wav\n",
       "1         143      0             HC_O2_0143.wav\n",
       "2          78      1         PD_CARMEN_0078.wav\n",
       "3          81      0          HC_PERRO_0081.wav\n",
       "4          52      0  HC_PATATA_BLANDA_0052.wav"
      ]
     },
     "execution_count": 11,
     "metadata": {},
     "output_type": "execute_result"
    }
   ],
   "source": [
    "audio_labels=label_generator(DATA_PATH_NeuroV)\n",
    "audio_labels.head()"
   ]
  },
  {
   "cell_type": "code",
   "execution_count": null,
   "metadata": {},
   "outputs": [],
   "source": [
    "numero_segmentos=num_seg(DATA_PATH_NeuroV, audio_labels, SAMPLE_RATE_)\n",
    "numero_segmentos.head()"
   ]
  },
  {
   "cell_type": "code",
   "execution_count": null,
   "metadata": {},
   "outputs": [
    {
     "data": {
      "text/html": [
       "<div>\n",
       "<style scoped>\n",
       "    .dataframe tbody tr th:only-of-type {\n",
       "        vertical-align: middle;\n",
       "    }\n",
       "\n",
       "    .dataframe tbody tr th {\n",
       "        vertical-align: top;\n",
       "    }\n",
       "\n",
       "    .dataframe thead th {\n",
       "        text-align: right;\n",
       "    }\n",
       "</style>\n",
       "<table border=\"1\" class=\"dataframe\">\n",
       "  <thead>\n",
       "    <tr style=\"text-align: right;\">\n",
       "      <th></th>\n",
       "      <th>Filename</th>\n",
       "      <th>Segments</th>\n",
       "    </tr>\n",
       "  </thead>\n",
       "  <tbody>\n",
       "    <tr>\n",
       "      <th>0</th>\n",
       "      <td>PD_PERRO_0016.wav</td>\n",
       "      <td>8</td>\n",
       "    </tr>\n",
       "    <tr>\n",
       "      <th>1</th>\n",
       "      <td>HC_O2_0143.wav</td>\n",
       "      <td>20</td>\n",
       "    </tr>\n",
       "    <tr>\n",
       "      <th>2</th>\n",
       "      <td>PD_CARMEN_0078.wav</td>\n",
       "      <td>7</td>\n",
       "    </tr>\n",
       "    <tr>\n",
       "      <th>3</th>\n",
       "      <td>HC_PERRO_0081.wav</td>\n",
       "      <td>7</td>\n",
       "    </tr>\n",
       "    <tr>\n",
       "      <th>4</th>\n",
       "      <td>HC_PATATA_BLANDA_0052.wav</td>\n",
       "      <td>9</td>\n",
       "    </tr>\n",
       "  </tbody>\n",
       "</table>\n",
       "</div>"
      ],
      "text/plain": [
       "                    Filename  Segments\n",
       "0          PD_PERRO_0016.wav         8\n",
       "1             HC_O2_0143.wav        20\n",
       "2         PD_CARMEN_0078.wav         7\n",
       "3          HC_PERRO_0081.wav         7\n",
       "4  HC_PATATA_BLANDA_0052.wav         9"
      ]
     },
     "execution_count": 4,
     "metadata": {},
     "output_type": "execute_result"
    }
   ],
   "source": [
    "numero_de_segmentos=pd.read_csv('prueba.csv')\n",
    "numero_de_segmentos.head()"
   ]
  },
  {
   "cell_type": "code",
   "execution_count": null,
   "metadata": {},
   "outputs": [
    {
     "name": "stdout",
     "output_type": "stream",
     "text": [
      "There are 59379 segments\n"
     ]
    }
   ],
   "source": [
    "number=numero_de_segmentos['Segments'].sum()\n",
    "print(\"There are {} segments\".format(number))"
   ]
  },
  {
   "cell_type": "code",
   "execution_count": null,
   "metadata": {},
   "outputs": [],
   "source": []
  }
 ],
 "metadata": {
  "kernelspec": {
   "display_name": "gaps",
   "language": "python",
   "name": "python3"
  },
  "language_info": {
   "codemirror_mode": {
    "name": "ipython",
    "version": 3
   },
   "file_extension": ".py",
   "mimetype": "text/x-python",
   "name": "python",
   "nbconvert_exporter": "python",
   "pygments_lexer": "ipython3",
   "version": "3.12.4"
  }
 },
 "nbformat": 4,
 "nbformat_minor": 2
}
