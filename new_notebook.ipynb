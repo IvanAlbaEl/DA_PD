{
 "cells": [
  {
   "cell_type": "code",
   "execution_count": 1,
   "metadata": {},
   "outputs": [
    {
     "name": "stdout",
     "output_type": "stream",
     "text": [
      "[0, 1, 2, 3, 0, 1, 0, 1, 2]\n"
     ]
    }
   ],
   "source": [
    "array=[4,2,3]\n",
    "\n",
    "signal_index=[]\n",
    "for number in array:\n",
    "    for i in range(number):\n",
    "        signal_index.append(i)\n",
    "\n",
    "print(signal_index)"
   ]
  },
  {
   "cell_type": "code",
   "execution_count": null,
   "metadata": {},
   "outputs": [],
   "source": [
    "y_cl2_flat=torch.flatten(y_cl2, start_dim=1)"
   ]
  },
  {
   "cell_type": "code",
   "execution_count": 1,
   "metadata": {},
   "outputs": [
    {
     "name": "stdout",
     "output_type": "stream",
     "text": [
      "Original Tensor:\n",
      "tensor([[[ 1,  2,  3,  4],\n",
      "         [ 5,  6,  7,  8],\n",
      "         [ 9, 10, 11, 12]],\n",
      "\n",
      "        [[13, 14, 15, 16],\n",
      "         [17, 18, 19, 20],\n",
      "         [21, 22, 23, 24]]])\n",
      "Shape: torch.Size([2, 3, 4])\n"
     ]
    }
   ],
   "source": [
    "import torch\n",
    "y_cl2 = torch.tensor([\n",
    "    [[1, 2, 3, 4],\n",
    "     [5, 6, 7, 8],\n",
    "     [9, 10, 11, 12]],\n",
    "    \n",
    "    [[13, 14, 15, 16],\n",
    "     [17, 18, 19, 20],\n",
    "     [21, 22, 23, 24]]\n",
    "])\n",
    "\n",
    "print(\"Original Tensor:\")\n",
    "print(y_cl2)\n",
    "print(\"Shape:\", y_cl2.shape)"
   ]
  },
  {
   "cell_type": "code",
   "execution_count": 2,
   "metadata": {},
   "outputs": [
    {
     "name": "stdout",
     "output_type": "stream",
     "text": [
      "\n",
      "Flattened Tensor (start_dim=1):\n",
      "tensor([[ 1,  2,  3,  4,  5,  6,  7,  8,  9, 10, 11, 12],\n",
      "        [13, 14, 15, 16, 17, 18, 19, 20, 21, 22, 23, 24]])\n",
      "Shape: torch.Size([2, 12])\n"
     ]
    }
   ],
   "source": [
    "# Flatten starting from dimension 1 (keeping the first dimension)\n",
    "y_cl2_flat_1 = torch.flatten(y_cl2, start_dim=1)\n",
    "\n",
    "print(\"\\nFlattened Tensor (start_dim=1):\")\n",
    "print(y_cl2_flat_1)\n",
    "print(\"Shape:\", y_cl2_flat_1.shape)\n"
   ]
  },
  {
   "cell_type": "code",
   "execution_count": 3,
   "metadata": {},
   "outputs": [
    {
     "name": "stdout",
     "output_type": "stream",
     "text": [
      "\n",
      "Flattened Tensor (start_dim=0):\n",
      "tensor([ 1,  2,  3,  4,  5,  6,  7,  8,  9, 10, 11, 12, 13, 14, 15, 16, 17, 18,\n",
      "        19, 20, 21, 22, 23, 24])\n",
      "Shape: torch.Size([24])\n"
     ]
    }
   ],
   "source": [
    "\n",
    "# Flatten starting from dimension 0 (flattening the entire tensor)\n",
    "y_cl2_flat_0 = torch.flatten(y_cl2, start_dim=0)\n",
    "\n",
    "print(\"\\nFlattened Tensor (start_dim=0):\")\n",
    "print(y_cl2_flat_0)\n",
    "print(\"Shape:\", y_cl2_flat_0.shape)\n"
   ]
  },
  {
   "cell_type": "code",
   "execution_count": 4,
   "metadata": {},
   "outputs": [
    {
     "name": "stdout",
     "output_type": "stream",
     "text": [
      "\n",
      "Flattened Tensor (start_dim=2):\n",
      "tensor([[[ 1,  2,  3,  4],\n",
      "         [ 5,  6,  7,  8],\n",
      "         [ 9, 10, 11, 12]],\n",
      "\n",
      "        [[13, 14, 15, 16],\n",
      "         [17, 18, 19, 20],\n",
      "         [21, 22, 23, 24]]])\n",
      "Shape: torch.Size([2, 3, 4])\n"
     ]
    }
   ],
   "source": [
    "\n",
    "# Flatten starting from dimension 2 (keeping the first two dimensions)\n",
    "y_cl2_flat_2 = torch.flatten(y_cl2, start_dim=2)\n",
    "\n",
    "print(\"\\nFlattened Tensor (start_dim=2):\")\n",
    "print(y_cl2_flat_2)\n",
    "print(\"Shape:\", y_cl2_flat_2.shape)\n"
   ]
  },
  {
   "cell_type": "code",
   "execution_count": null,
   "metadata": {},
   "outputs": [],
   "source": []
  }
 ],
 "metadata": {
  "kernelspec": {
   "display_name": "gaps",
   "language": "python",
   "name": "python3"
  },
  "language_info": {
   "codemirror_mode": {
    "name": "ipython",
    "version": 3
   },
   "file_extension": ".py",
   "mimetype": "text/x-python",
   "name": "python",
   "nbconvert_exporter": "python",
   "pygments_lexer": "ipython3",
   "version": "3.12.4"
  }
 },
 "nbformat": 4,
 "nbformat_minor": 2
}
