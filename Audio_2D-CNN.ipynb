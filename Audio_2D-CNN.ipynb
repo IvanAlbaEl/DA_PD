{
 "cells": [
  {
   "cell_type": "markdown",
   "metadata": {},
   "source": [
    "Model"
   ]
  },
  {
   "cell_type": "code",
   "execution_count": null,
   "metadata": {},
   "outputs": [],
   "source": [
    "class CNN_model(nn.Module):\n",
    "    \n",
    "    def __init__(self, kernel_size_1, kernel_size_2, depth_CL, neurons_MLP, drop_out, neurons_MLP_D):\n",
    "        \n",
    "        super().__init__()\n",
    "\n",
    "        # 1. Convolutional Layer 1\n",
    "        self.conv2Dblock1=nn.Sequential(\n",
    "            nn.Conv2d(in_channels=1, out_channels=depth_CL, kernel_size=kernel_size_1, stride=1, padding=1),\n",
    "            nn.BatchNorm2d(depth_CL),\n",
    "            nn.ReLU(),\n",
    "            nn.MaxPool2d(kernel_size=2),\n",
    "            nn.Dropout(p=drop_out),\n",
    "        )\n",
    "\n",
    "        # 2. Convolutional Layer 2\n",
    "        self.conv2Dblock2=nn.Sequential(\n",
    "            nn.Conv2d(in_channels=depth_CL, out_channels=depth_CL, kernel_size=kernel_size_2, stride=1, padding=1),\n",
    "            nn.BatchNorm2d(depth_CL),\n",
    "            nn.ReLU(),\n",
    "            nn.MaxPool2d(kernel_size=2),\n",
    "            nn.Dropout(p=drop_out),\n",
    "        )\n",
    "\n",
    "        # 3. Fully Connected Layer 1\n",
    "        self.MLPblock1=nn.Sequential(\n",
    "            \n",
    "            nn.Linear(in_features=depth_CL*7*7, out_features=neurons_MLP),\n",
    "            nn.ReLU(),\n",
    "            nn.Dropout(p=drop_out),\n",
    "        )\n",
    "\n",
    "\n",
    "\n",
    "        "
   ]
  }
 ],
 "metadata": {
  "kernelspec": {
   "display_name": "gaps",
   "language": "python",
   "name": "python3"
  },
  "language_info": {
   "name": "python",
   "version": "3.12.4"
  }
 },
 "nbformat": 4,
 "nbformat_minor": 2
}
