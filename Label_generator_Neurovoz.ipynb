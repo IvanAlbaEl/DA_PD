{
 "cells": [
  {
   "cell_type": "code",
   "execution_count": 5,
   "metadata": {},
   "outputs": [],
   "source": [
    "import numpy as np\n",
    "import pandas as pd\n",
    "import os"
   ]
  },
  {
   "cell_type": "code",
   "execution_count": 6,
   "metadata": {},
   "outputs": [],
   "source": [
    "def label_generator(DATA_PATH_NeuroV):\n",
    "    data_list = []\n",
    "    \n",
    "    for dirname, _, filenames in os.walk(DATA_PATH_NeuroV):\n",
    "        for filename in filenames:\n",
    "            if filename.endswith('.wav'):  # Check if the file is a WAV file\n",
    "                identifiers = filename.split('.')[0].split('_')\n",
    "                Speaker_ID = int(identifiers[-1])\n",
    "                Label = 1 if identifiers[0] == 'PD' else 0\n",
    "                data_list.append({\n",
    "                    \"Speaker_ID\": Speaker_ID,\n",
    "                    \"Label\": Label,\n",
    "                    \"FileName\": filename\n",
    "                })\n",
    "    \n",
    "    data_NeuroV = pd.DataFrame(data_list)\n",
    "    output_path = 'labels.csv'\n",
    "    data_NeuroV.to_csv(output_path, index=False)\n",
    "    print(f\"CSV file with labels saved to {output_path}\")\n",
    "    \n",
    "    return data_NeuroV"
   ]
  },
  {
   "cell_type": "code",
   "execution_count": 7,
   "metadata": {},
   "outputs": [
    {
     "name": "stdout",
     "output_type": "stream",
     "text": [
      "CSV file with labels saved to labels.csv\n"
     ]
    }
   ],
   "source": [
    "DATA_PATH_NeuroV = 'neurovoz/zenodo_upload/audios/'\n",
    "\n",
    "data_NeuroV = label_generator(DATA_PATH_NeuroV)"
   ]
  },
  {
   "cell_type": "code",
   "execution_count": 8,
   "metadata": {},
   "outputs": [
    {
     "data": {
      "text/html": [
       "<div>\n",
       "<style scoped>\n",
       "    .dataframe tbody tr th:only-of-type {\n",
       "        vertical-align: middle;\n",
       "    }\n",
       "\n",
       "    .dataframe tbody tr th {\n",
       "        vertical-align: top;\n",
       "    }\n",
       "\n",
       "    .dataframe thead th {\n",
       "        text-align: right;\n",
       "    }\n",
       "</style>\n",
       "<table border=\"1\" class=\"dataframe\">\n",
       "  <thead>\n",
       "    <tr style=\"text-align: right;\">\n",
       "      <th></th>\n",
       "      <th>Speaker_ID</th>\n",
       "      <th>Label</th>\n",
       "      <th>FileName</th>\n",
       "    </tr>\n",
       "  </thead>\n",
       "  <tbody>\n",
       "    <tr>\n",
       "      <th>0</th>\n",
       "      <td>16</td>\n",
       "      <td>1</td>\n",
       "      <td>PD_PERRO_0016.wav</td>\n",
       "    </tr>\n",
       "    <tr>\n",
       "      <th>1</th>\n",
       "      <td>143</td>\n",
       "      <td>0</td>\n",
       "      <td>HC_O2_0143.wav</td>\n",
       "    </tr>\n",
       "    <tr>\n",
       "      <th>2</th>\n",
       "      <td>78</td>\n",
       "      <td>1</td>\n",
       "      <td>PD_CARMEN_0078.wav</td>\n",
       "    </tr>\n",
       "    <tr>\n",
       "      <th>3</th>\n",
       "      <td>81</td>\n",
       "      <td>0</td>\n",
       "      <td>HC_PERRO_0081.wav</td>\n",
       "    </tr>\n",
       "    <tr>\n",
       "      <th>4</th>\n",
       "      <td>52</td>\n",
       "      <td>0</td>\n",
       "      <td>HC_PATATA_BLANDA_0052.wav</td>\n",
       "    </tr>\n",
       "  </tbody>\n",
       "</table>\n",
       "</div>"
      ],
      "text/plain": [
       "   Speaker_ID  Label                   FileName\n",
       "0          16      1          PD_PERRO_0016.wav\n",
       "1         143      0             HC_O2_0143.wav\n",
       "2          78      1         PD_CARMEN_0078.wav\n",
       "3          81      0          HC_PERRO_0081.wav\n",
       "4          52      0  HC_PATATA_BLANDA_0052.wav"
      ]
     },
     "execution_count": 8,
     "metadata": {},
     "output_type": "execute_result"
    }
   ],
   "source": [
    "data_NeuroV.head()"
   ]
  },
  {
   "cell_type": "code",
   "execution_count": 9,
   "metadata": {},
   "outputs": [
    {
     "data": {
      "text/html": [
       "<div>\n",
       "<style scoped>\n",
       "    .dataframe tbody tr th:only-of-type {\n",
       "        vertical-align: middle;\n",
       "    }\n",
       "\n",
       "    .dataframe tbody tr th {\n",
       "        vertical-align: top;\n",
       "    }\n",
       "\n",
       "    .dataframe thead th {\n",
       "        text-align: right;\n",
       "    }\n",
       "</style>\n",
       "<table border=\"1\" class=\"dataframe\">\n",
       "  <thead>\n",
       "    <tr style=\"text-align: right;\">\n",
       "      <th></th>\n",
       "      <th>Speaker_ID</th>\n",
       "      <th>Label</th>\n",
       "      <th>FileName</th>\n",
       "    </tr>\n",
       "  </thead>\n",
       "  <tbody>\n",
       "    <tr>\n",
       "      <th>0</th>\n",
       "      <td>16</td>\n",
       "      <td>1</td>\n",
       "      <td>PD_PERRO_0016.wav</td>\n",
       "    </tr>\n",
       "    <tr>\n",
       "      <th>1</th>\n",
       "      <td>143</td>\n",
       "      <td>0</td>\n",
       "      <td>HC_O2_0143.wav</td>\n",
       "    </tr>\n",
       "    <tr>\n",
       "      <th>2</th>\n",
       "      <td>78</td>\n",
       "      <td>1</td>\n",
       "      <td>PD_CARMEN_0078.wav</td>\n",
       "    </tr>\n",
       "    <tr>\n",
       "      <th>3</th>\n",
       "      <td>81</td>\n",
       "      <td>0</td>\n",
       "      <td>HC_PERRO_0081.wav</td>\n",
       "    </tr>\n",
       "    <tr>\n",
       "      <th>4</th>\n",
       "      <td>52</td>\n",
       "      <td>0</td>\n",
       "      <td>HC_PATATA_BLANDA_0052.wav</td>\n",
       "    </tr>\n",
       "  </tbody>\n",
       "</table>\n",
       "</div>"
      ],
      "text/plain": [
       "   Speaker_ID  Label                   FileName\n",
       "0          16      1          PD_PERRO_0016.wav\n",
       "1         143      0             HC_O2_0143.wav\n",
       "2          78      1         PD_CARMEN_0078.wav\n",
       "3          81      0          HC_PERRO_0081.wav\n",
       "4          52      0  HC_PATATA_BLANDA_0052.wav"
      ]
     },
     "execution_count": 9,
     "metadata": {},
     "output_type": "execute_result"
    }
   ],
   "source": [
    "prueba=pd.read_csv('labels.csv')\n",
    "prueba.head()"
   ]
  },
  {
   "cell_type": "code",
   "execution_count": null,
   "metadata": {},
   "outputs": [],
   "source": []
  }
 ],
 "metadata": {
  "kernelspec": {
   "display_name": "gaps",
   "language": "python",
   "name": "python3"
  },
  "language_info": {
   "codemirror_mode": {
    "name": "ipython",
    "version": 3
   },
   "file_extension": ".py",
   "mimetype": "text/x-python",
   "name": "python",
   "nbconvert_exporter": "python",
   "pygments_lexer": "ipython3",
   "version": "3.12.4"
  }
 },
 "nbformat": 4,
 "nbformat_minor": 2
}
