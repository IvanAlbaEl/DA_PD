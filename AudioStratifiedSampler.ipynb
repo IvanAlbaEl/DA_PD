{
 "cells": [
  {
   "cell_type": "code",
   "execution_count": null,
   "metadata": {},
   "outputs": [],
   "source": [
    "import torch\n",
    "import numpy as np\n",
    "from torch.utils.data import DataLoader, Dataset\n",
    "from sklearn.model_selection import StratifiedGroupKFold\n",
    "\n",
    "\n",
    "class StratiSampler:\n",
    "    def __init__(self, y, groups, folds, shuffle = True):\n",
    "        if torch.is_tensor(y):\n",
    "            y.cpu().numpy()\n",
    "        assert len(y.shape) == 1, \"y must be a 1D tensor\"\n",
    "        n_batches = int(len(y) / folds)\n",
    "        self.batch_size = folds\n",
    "        self.skf = StratifiedGroupKFold(n_splits = n_batches, shuffle = shuffle)\n",
    "        self.y = y\n",
    "        self.groups = groups\n",
    "        self.shuffle = shuffle\n",
    "\n",
    "    def __iter__(self):\n",
    "        if self.shuffle:\n",
    "            self.skf.random_state = np.random.randint(0, 1000)\n",
    "        for train_index, test_index in self.skf.split(self.y, self.y, self.groups):\n",
    "            yield train_index, test_index\n",
    "\n",
    "    def __len__(self):\n",
    "        return len(self.y)\n",
    "    \n",
    "\n",
    "\n"
   ]
  }
 ],
 "metadata": {
  "language_info": {
   "name": "python"
  }
 },
 "nbformat": 4,
 "nbformat_minor": 2
}
